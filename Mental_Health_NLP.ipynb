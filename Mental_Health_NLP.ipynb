{
 "cells": [
  {
   "cell_type": "code",
   "execution_count": null,
   "id": "29db2930",
   "metadata": {},
   "outputs": [],
   "source": [
    "!pip install tensorflow_hub"
   ]
  },
  {
   "cell_type": "code",
   "execution_count": null,
   "id": "ead02753",
   "metadata": {},
   "outputs": [],
   "source": [
    "import os\n",
    "import pandas as pd\n",
    "import tensorflow as tf\n",
    "import tensorflow_hub as hub\n",
    "import numpy as np"
   ]
  },
  {
   "cell_type": "code",
   "execution_count": null,
   "id": "bcf1d1a5",
   "metadata": {},
   "outputs": [],
   "source": [
    "train_data=pd.read_csv(r'C:\\Users\\My Pc\\ML_project\\text\\Mental.txt', sep = ';')\n",
    "train_data.head()"
   ]
  },
  {
   "cell_type": "code",
   "execution_count": null,
   "id": "0e8a4845",
   "metadata": {},
   "outputs": [],
   "source": [
    "def preprocess(data):\n",
    "    data = pd.read_csv(r'C:\\Users\\My Pc\\ML_project\\text\\Mental.txt', sep = ';')\n",
    "    data.head()\n",
    "    hos = []\n",
    "    for i in range(len(data.emotion)):\n",
    "        if data['emotion'][i] in ['joy', 'love', 'surprise']:\n",
    "            hos.append(1) # happy is 1\n",
    "        else:\n",
    "            hos.append(0) # sad is 0\n",
    "    data['hos'] = hos\n",
    "    return data\n"
   ]
  },
  {
   "cell_type": "code",
   "execution_count": null,
   "id": "38e99101",
   "metadata": {},
   "outputs": [],
   "source": [
    "train_data = preprocess('train')\n",
    "train = train_data.copy()"
   ]
  },
  {
   "cell_type": "code",
   "execution_count": null,
   "id": "b0e4eb5e",
   "metadata": {},
   "outputs": [],
   "source": [
    "train['emotion'].value_counts()"
   ]
  },
  {
   "cell_type": "code",
   "execution_count": null,
   "id": "4a0539cf",
   "metadata": {},
   "outputs": [],
   "source": [
    "train[train.emotion=='surpise']['text'].head(10)"
   ]
  },
  {
   "cell_type": "code",
   "execution_count": null,
   "id": "d4fb92b4",
   "metadata": {},
   "outputs": [],
   "source": [
    "train.groupby('hos').describe()"
   ]
  },
  {
   "cell_type": "code",
   "execution_count": null,
   "id": "2fb01419",
   "metadata": {},
   "outputs": [],
   "source": [
    "model = \"https://tfhub.dev/google/tf2-preview/gnews-swivel-20dim/1\"\n"
   ]
  },
  {
   "cell_type": "code",
   "execution_count": null,
   "id": "298d65f3",
   "metadata": {},
   "outputs": [],
   "source": [
    "hub_layer=hub.KerasLayer(model, output_shape=[20], input_shape=[], dtype=tf.string, trainable=True)"
   ]
  },
  {
   "cell_type": "code",
   "execution_count": null,
   "id": "f09b30d2",
   "metadata": {},
   "outputs": [],
   "source": [
    "hub_layer(train['text'][:3])"
   ]
  },
  {
   "cell_type": "code",
   "execution_count": null,
   "id": "80c56e9d",
   "metadata": {},
   "outputs": [],
   "source": [
    "model=tf.keras.Sequential()\n"
   ]
  },
  {
   "cell_type": "code",
   "execution_count": null,
   "id": "17f95248",
   "metadata": {},
   "outputs": [],
   "source": [
    "model.add(hub_layer)\n"
   ]
  },
  {
   "cell_type": "code",
   "execution_count": null,
   "id": "4038d27a",
   "metadata": {},
   "outputs": [],
   "source": [
    "model.add(tf.keras.layers.Dense(16, activation='relu'))"
   ]
  },
  {
   "cell_type": "code",
   "execution_count": null,
   "id": "7c2a3c59",
   "metadata": {},
   "outputs": [],
   "source": [
    "model.add(tf.keras.layers.Dense(1))"
   ]
  },
  {
   "cell_type": "code",
   "execution_count": null,
   "id": "3c4a5802",
   "metadata": {},
   "outputs": [],
   "source": [
    "model.summary()"
   ]
  },
  {
   "cell_type": "code",
   "execution_count": null,
   "id": "14bd9769",
   "metadata": {},
   "outputs": [],
   "source": [
    "from tensorflow.python.keras.utils import losses_utils\n",
    "from tensorflow.python.ops.losses import util as tf_losses_util\n",
    "\n"
   ]
  },
  {
   "cell_type": "code",
   "execution_count": null,
   "id": "7ad229e6",
   "metadata": {},
   "outputs": [],
   "source": [
    "model.compile(optimizer='adam', loss=tf.losses.BinaryCrossentropy(from_logits=True), \n",
    "             metrics=[tf.metrics.BinaryAccuracy(threshold=0.0, name='accuracy')])"
   ]
  },
  {
   "cell_type": "code",
   "execution_count": null,
   "id": "aaa1d63b",
   "metadata": {},
   "outputs": [],
   "source": [
    "val=preprocess('val')"
   ]
  },
  {
   "cell_type": "code",
   "execution_count": null,
   "id": "985d5215",
   "metadata": {},
   "outputs": [],
   "source": [
    "val.head()"
   ]
  },
  {
   "cell_type": "code",
   "execution_count": null,
   "id": "b21c6fa1",
   "metadata": {},
   "outputs": [],
   "source": [
    "history=model.fit(train.text, train.hos, epochs=40, batch_size=512, validation_data=(val.text, val.hos), verbose=0)"
   ]
  },
  {
   "cell_type": "code",
   "execution_count": null,
   "id": "ceb7bbd7",
   "metadata": {},
   "outputs": [],
   "source": [
    "test=preprocess('test')"
   ]
  },
  {
   "cell_type": "code",
   "execution_count": null,
   "id": "206749ea",
   "metadata": {},
   "outputs": [],
   "source": [
    "results=model.evaluate(test['text'], test['hos'])"
   ]
  },
  {
   "cell_type": "code",
   "execution_count": null,
   "id": "aee27093",
   "metadata": {},
   "outputs": [],
   "source": [
    "print(results)"
   ]
  },
  {
   "cell_type": "code",
   "execution_count": null,
   "id": "c71fe5c4",
   "metadata": {},
   "outputs": [],
   "source": [
    "preds=model.predict(test.text)"
   ]
  },
  {
   "cell_type": "code",
   "execution_count": null,
   "id": "2f2be4fd",
   "metadata": {},
   "outputs": [],
   "source": [
    "predstr=model.predict(train.text)"
   ]
  },
  {
   "cell_type": "code",
   "execution_count": null,
   "id": "9e7a46aa",
   "metadata": {},
   "outputs": [],
   "source": [
    "print(predstr.min(),predstr.max())"
   ]
  },
  {
   "cell_type": "code",
   "execution_count": null,
   "id": "da14dbba",
   "metadata": {},
   "outputs": [],
   "source": [
    "print(preds.min(), preds.max())"
   ]
  },
  {
   "cell_type": "code",
   "execution_count": null,
   "id": "0f3cf0c7",
   "metadata": {},
   "outputs": [],
   "source": [
    "def postprocessor(preds):\n",
    "    for i in preds:\n",
    "        norm_preds.append((i - predstr.min()) / range)\n",
    "        probab.append((i - predstr.min()) * 100 / range)\n",
    "    return np.mean(probab)#, probab\n",
    "\n",
    "#print(postprocessor(preds))\n",
    "\n",
    "answers = []\n",
    "answers.append(input('How would you describe your experience at your workplace/college/school in the past few days?'))\n",
    "answers.append(input('How do you like to spend your leisure time? How do you feel after it?'))\n",
    "answers.append(input('Life has its ups and downs. Although handling successes can be difficult, setbacks can affect mental health strongly. How do you manage your emotions after failures?'))\n",
    "answers.append(input('Are there any improvements/decline in your salary/grades?'))\n",
    "#answers.append(input('Any recent unpleasant experience that you would like to share?'))\n",
    "answers.append(input('In a broad sense, how would you describe the way your life is going on?'))\n",
    "#answers.append(input('How would you describe your experience at your workplace/college/school in the past few days?'))\n",
    "results = model.predict(answers)\n",
    "score = postprocessor(results)\n",
    "print('Your mental health score is:', score)\n",
    "\n",
    "if score < 25:\n",
    "    print(\"You are going through a bad phase in life. But don't worry, bad times are not permanent. Try to seek help from a trained professional to improve your mental health.\")\n",
    "else:\n",
    "    print(\"Your mental health looks great! Continue enjoying life and try to help others who are struggling with their mental health.\")\n",
    "    "
   ]
  },
  {
   "cell_type": "code",
   "execution_count": null,
   "id": "c16a3808",
   "metadata": {},
   "outputs": [],
   "source": []
  }
 ],
 "metadata": {
  "kernelspec": {
   "display_name": "Python 3",
   "language": "python",
   "name": "python3"
  },
  "language_info": {
   "codemirror_mode": {
    "name": "ipython",
    "version": 3
   },
   "file_extension": ".py",
   "mimetype": "text/x-python",
   "name": "python",
   "nbconvert_exporter": "python",
   "pygments_lexer": "ipython3",
   "version": "3.8.8"
  }
 },
 "nbformat": 4,
 "nbformat_minor": 5
}
